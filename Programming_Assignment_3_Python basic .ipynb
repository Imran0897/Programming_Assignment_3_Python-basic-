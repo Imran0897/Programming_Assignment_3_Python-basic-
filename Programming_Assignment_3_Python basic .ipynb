{
 "cells": [
  {
   "cell_type": "code",
   "execution_count": null,
   "id": "ab291707",
   "metadata": {},
   "outputs": [],
   "source": [
    "#1.\n",
    "\n",
    "x = int(input(\"enter a number: \"))\n",
    "\n",
    "if x>0:\n",
    "    print(\"number is positive\")\n",
    "elif x<0:\n",
    "    print(\"number is negative\")\n",
    "else:\n",
    "    print(\"number is zero\")"
   ]
  },
  {
   "cell_type": "code",
   "execution_count": null,
   "id": "5c243574",
   "metadata": {},
   "outputs": [],
   "source": [
    "#2.\n",
    "\n",
    "x = int(input(\"enter a number: \"))\n",
    "\n",
    "if x%2==0:\n",
    "    print(\"number is even\")\n",
    "else:\n",
    "    print(\"number is odd\")"
   ]
  },
  {
   "cell_type": "code",
   "execution_count": null,
   "id": "1ff4f3a4",
   "metadata": {},
   "outputs": [],
   "source": [
    "#3.\n",
    "\n",
    "year = int(input(\"Enter a year: \"))\n",
    "\n",
    "if year%400 ==0:\n",
    "    print(\"leap year\")\n",
    "elif year%100 ==0:\n",
    "    print(\"year is no leap year\")\n",
    "elif year%4 ==0:\n",
    "    print(\"leap year\")\n",
    "else:\n",
    "    print(\"year is no leap year\")"
   ]
  },
  {
   "cell_type": "code",
   "execution_count": null,
   "id": "e8c1944e",
   "metadata": {},
   "outputs": [],
   "source": [
    "#4.\n",
    "\n",
    "num = int(input(\"enter a number: \"))\n",
    "\n",
    "if num>1:  \n",
    "    for i in range(2,num):\n",
    "        if num %i ==0:\n",
    "            print(num,\"is not  prime number\")\n",
    "            break\n",
    "    else:\n",
    "            print(num,\"is prime number\")\n",
    "else:\n",
    "    print(num,\"is not  prime number\")"
   ]
  },
  {
   "cell_type": "code",
   "execution_count": null,
   "id": "93374535",
   "metadata": {},
   "outputs": [],
   "source": [
    "#5.\n",
    "\n",
    "num = 10000\n",
    "\n",
    "for i in range(2,num):\n",
    "    for j in range(2,i):\n",
    "        if i%j==0:\n",
    "            break\n",
    "    else:\n",
    "            print(i)"
   ]
  }
 ],
 "metadata": {
  "kernelspec": {
   "display_name": "Python 3 (ipykernel)",
   "language": "python",
   "name": "python3"
  },
  "language_info": {
   "codemirror_mode": {
    "name": "ipython",
    "version": 3
   },
   "file_extension": ".py",
   "mimetype": "text/x-python",
   "name": "python",
   "nbconvert_exporter": "python",
   "pygments_lexer": "ipython3",
   "version": "3.9.7"
  }
 },
 "nbformat": 4,
 "nbformat_minor": 5
}
